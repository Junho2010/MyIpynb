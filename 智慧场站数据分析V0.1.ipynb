{
 "cells": [
  {
   "cell_type": "code",
   "execution_count": 63,
   "metadata": {},
   "outputs": [],
   "source": [
    "import numpy as np\n",
    "import pandas as pd\n",
    "%matplotlib inline"
   ]
  },
  {
   "cell_type": "code",
   "execution_count": 64,
   "metadata": {},
   "outputs": [
    {
     "data": {
      "text/html": [
       "<div>\n",
       "<style scoped>\n",
       "    .dataframe tbody tr th:only-of-type {\n",
       "        vertical-align: middle;\n",
       "    }\n",
       "\n",
       "    .dataframe tbody tr th {\n",
       "        vertical-align: top;\n",
       "    }\n",
       "\n",
       "    .dataframe thead th {\n",
       "        text-align: right;\n",
       "    }\n",
       "</style>\n",
       "<table border=\"1\" class=\"dataframe\">\n",
       "  <thead>\n",
       "    <tr style=\"text-align: right;\">\n",
       "      <th></th>\n",
       "      <th>END_TIME</th>\n",
       "      <th>AVG_RUNNING</th>\n",
       "      <th>TRIPS_COUNT</th>\n",
       "      <th>VEHICLE_COUNT</th>\n",
       "    </tr>\n",
       "    <tr>\n",
       "      <th>FROM_TIME</th>\n",
       "      <th></th>\n",
       "      <th></th>\n",
       "      <th></th>\n",
       "      <th></th>\n",
       "    </tr>\n",
       "  </thead>\n",
       "  <tbody>\n",
       "    <tr>\n",
       "      <th>2018-06-01 00:05:00</th>\n",
       "      <td>2018-06-01 00:10:00</td>\n",
       "      <td>16.22</td>\n",
       "      <td>18</td>\n",
       "      <td>186</td>\n",
       "    </tr>\n",
       "    <tr>\n",
       "      <th>2018-06-01 00:10:00</th>\n",
       "      <td>2018-06-01 00:15:00</td>\n",
       "      <td>16.65</td>\n",
       "      <td>21</td>\n",
       "      <td>180</td>\n",
       "    </tr>\n",
       "    <tr>\n",
       "      <th>2018-06-01 00:15:00</th>\n",
       "      <td>2018-06-01 00:20:00</td>\n",
       "      <td>18.88</td>\n",
       "      <td>23</td>\n",
       "      <td>197</td>\n",
       "    </tr>\n",
       "    <tr>\n",
       "      <th>2018-06-01 00:20:00</th>\n",
       "      <td>2018-06-01 00:25:00</td>\n",
       "      <td>18.97</td>\n",
       "      <td>26</td>\n",
       "      <td>203</td>\n",
       "    </tr>\n",
       "    <tr>\n",
       "      <th>2018-06-01 00:25:00</th>\n",
       "      <td>2018-06-01 00:30:00</td>\n",
       "      <td>20.68</td>\n",
       "      <td>29</td>\n",
       "      <td>212</td>\n",
       "    </tr>\n",
       "    <tr>\n",
       "      <th>2018-06-01 00:30:00</th>\n",
       "      <td>2018-06-01 00:35:00</td>\n",
       "      <td>20.09</td>\n",
       "      <td>40</td>\n",
       "      <td>222</td>\n",
       "    </tr>\n",
       "    <tr>\n",
       "      <th>2018-06-01 00:35:00</th>\n",
       "      <td>2018-06-01 00:40:00</td>\n",
       "      <td>19.73</td>\n",
       "      <td>33</td>\n",
       "      <td>228</td>\n",
       "    </tr>\n",
       "    <tr>\n",
       "      <th>2018-06-01 00:40:00</th>\n",
       "      <td>2018-06-01 00:45:00</td>\n",
       "      <td>19.44</td>\n",
       "      <td>30</td>\n",
       "      <td>216</td>\n",
       "    </tr>\n",
       "    <tr>\n",
       "      <th>2018-06-01 00:45:00</th>\n",
       "      <td>2018-06-01 00:50:00</td>\n",
       "      <td>20.19</td>\n",
       "      <td>40</td>\n",
       "      <td>226</td>\n",
       "    </tr>\n",
       "    <tr>\n",
       "      <th>2018-06-01 00:50:00</th>\n",
       "      <td>2018-06-01 00:55:00</td>\n",
       "      <td>20.99</td>\n",
       "      <td>24</td>\n",
       "      <td>238</td>\n",
       "    </tr>\n",
       "  </tbody>\n",
       "</table>\n",
       "</div>"
      ],
      "text/plain": [
       "                                END_TIME  AVG_RUNNING  TRIPS_COUNT  \\\n",
       "FROM_TIME                                                            \n",
       "2018-06-01 00:05:00  2018-06-01 00:10:00        16.22           18   \n",
       "2018-06-01 00:10:00  2018-06-01 00:15:00        16.65           21   \n",
       "2018-06-01 00:15:00  2018-06-01 00:20:00        18.88           23   \n",
       "2018-06-01 00:20:00  2018-06-01 00:25:00        18.97           26   \n",
       "2018-06-01 00:25:00  2018-06-01 00:30:00        20.68           29   \n",
       "2018-06-01 00:30:00  2018-06-01 00:35:00        20.09           40   \n",
       "2018-06-01 00:35:00  2018-06-01 00:40:00        19.73           33   \n",
       "2018-06-01 00:40:00  2018-06-01 00:45:00        19.44           30   \n",
       "2018-06-01 00:45:00  2018-06-01 00:50:00        20.19           40   \n",
       "2018-06-01 00:50:00  2018-06-01 00:55:00        20.99           24   \n",
       "\n",
       "                     VEHICLE_COUNT  \n",
       "FROM_TIME                           \n",
       "2018-06-01 00:05:00            186  \n",
       "2018-06-01 00:10:00            180  \n",
       "2018-06-01 00:15:00            197  \n",
       "2018-06-01 00:20:00            203  \n",
       "2018-06-01 00:25:00            212  \n",
       "2018-06-01 00:30:00            222  \n",
       "2018-06-01 00:35:00            228  \n",
       "2018-06-01 00:40:00            216  \n",
       "2018-06-01 00:45:00            226  \n",
       "2018-06-01 00:50:00            238  "
      ]
     },
     "execution_count": 64,
     "metadata": {},
     "output_type": "execute_result"
    }
   ],
   "source": [
    "data = pd.read_csv(\"from_06_01_5_minute_stat.csv\")\n",
    "data.set_index(\"FROM_TIME\", inplace=True)\n",
    "data.head(10)"
   ]
  },
  {
   "cell_type": "markdown",
   "metadata": {},
   "source": [
    "# 根据输入的次数获取预估发车量\n",
    "数据为当前到之前n-1个数据之和"
   ]
  },
  {
   "cell_type": "code",
   "execution_count": 65,
   "metadata": {},
   "outputs": [],
   "source": [
    "def getEstTripsCount(df,n=5):\n",
    "    trips_count = df[\"TRIPS_COUNT\"]\n",
    "    estTripsCount = []\n",
    "    l = len(trips_count)\n",
    "    for i in range(l):\n",
    "        if i < n-1:\n",
    "            estTripsCount.append(0)\n",
    "        else:\n",
    "            estTripsCount.append(sum(trips_count[i+1-n:i+1]))\n",
    "    return estTripsCount\n"
   ]
  },
  {
   "cell_type": "code",
   "execution_count": 66,
   "metadata": {},
   "outputs": [],
   "source": [
    "estTripsCount_20 = getEstTripsCount(data, n=4)\n",
    "estTripsCount_25 = getEstTripsCount(data, n=5)\n",
    "estTripsCount_30 = getEstTripsCount(data, n=6)\n",
    "estTripsCount_35 = getEstTripsCount(data, n=7)\n",
    "estTripsCount_40 = getEstTripsCount(data, n=8)"
   ]
  },
  {
   "cell_type": "markdown",
   "metadata": {},
   "source": [
    "# 计算真实发车辆\n",
    "计算方法为获取当前时间点之后的n个点trips_count之和"
   ]
  },
  {
   "cell_type": "code",
   "execution_count": 67,
   "metadata": {},
   "outputs": [],
   "source": [
    "def getRealTripsCount(df,n=5):\n",
    "    trips_count = df[\"TRIPS_COUNT\"]\n",
    "    realTripsCount = []\n",
    "    l = len(trips_count)\n",
    "    for i in range(l):\n",
    "        if l-i-1 < n:\n",
    "            realTripsCount.append(0)\n",
    "        else:\n",
    "            realTripsCount.append(sum(trips_count[i+1:i+1+n]))\n",
    "    return realTripsCount"
   ]
  },
  {
   "cell_type": "code",
   "execution_count": 68,
   "metadata": {},
   "outputs": [],
   "source": [
    "realTripsCount_20 = getRealTripsCount(data, n=4)\n",
    "realTripsCount_25 = getRealTripsCount(data, n=5)\n",
    "realTripsCount_30 = getRealTripsCount(data, n=6)\n",
    "realTripsCount_35 = getRealTripsCount(data, n=7)\n",
    "realTripsCount_40 = getRealTripsCount(data, n=8)"
   ]
  },
  {
   "cell_type": "markdown",
   "metadata": {},
   "source": [
    "# 计算空车差量 5%，10%，15%"
   ]
  },
  {
   "cell_type": "code",
   "execution_count": 69,
   "metadata": {},
   "outputs": [],
   "source": [
    "data[\"VEHICLE_COUNT_105\"] = data.VEHICLE_COUNT*1.05\n",
    "data[\"VEHICLE_COUNT_110\"] = data.VEHICLE_COUNT*1.10\n",
    "data[\"VEHICLE_COUNT_115\"] = data.VEHICLE_COUNT*1.15"
   ]
  },
  {
   "cell_type": "markdown",
   "metadata": {},
   "source": [
    "# 合并数据集\n",
    "将计算的预估发车辆、真实发车量数据合并到Data数据集中，命名为data_final"
   ]
  },
  {
   "cell_type": "code",
   "execution_count": 70,
   "metadata": {},
   "outputs": [],
   "source": [
    "trips_count_dict = {\"estTripsCount_20\":estTripsCount_20,\n",
    "                    \"estTripsCount_25\":estTripsCount_25,\n",
    "                    \"estTripsCount_30\":estTripsCount_30,\n",
    "                    \"estTripsCount_35\":estTripsCount_35,\n",
    "                    \"estTripsCount_40\":estTripsCount_40,\n",
    "                    \"realTripsCount_20\":realTripsCount_20,\n",
    "                    \"realTripsCount_25\":realTripsCount_25,\n",
    "                    \"realTripsCount_30\":realTripsCount_30,\n",
    "                    \"realTripsCount_35\":realTripsCount_35,\n",
    "                    \"realTripsCount_40\":realTripsCount_40                    \n",
    "                   }"
   ]
  },
  {
   "cell_type": "code",
   "execution_count": 71,
   "metadata": {},
   "outputs": [],
   "source": [
    "data_trips_count = pd.DataFrame(data=trips_count_dict, index=data.index)"
   ]
  },
  {
   "cell_type": "code",
   "execution_count": 72,
   "metadata": {},
   "outputs": [],
   "source": [
    "data_final = data.merge(data_trips_count, left_index=True, right_index=True)"
   ]
  },
  {
   "cell_type": "code",
   "execution_count": 73,
   "metadata": {},
   "outputs": [
    {
     "data": {
      "text/html": [
       "<div>\n",
       "<style scoped>\n",
       "    .dataframe tbody tr th:only-of-type {\n",
       "        vertical-align: middle;\n",
       "    }\n",
       "\n",
       "    .dataframe tbody tr th {\n",
       "        vertical-align: top;\n",
       "    }\n",
       "\n",
       "    .dataframe thead th {\n",
       "        text-align: right;\n",
       "    }\n",
       "</style>\n",
       "<table border=\"1\" class=\"dataframe\">\n",
       "  <thead>\n",
       "    <tr style=\"text-align: right;\">\n",
       "      <th></th>\n",
       "      <th>END_TIME</th>\n",
       "      <th>AVG_RUNNING</th>\n",
       "      <th>TRIPS_COUNT</th>\n",
       "      <th>VEHICLE_COUNT</th>\n",
       "      <th>VEHICLE_COUNT_105</th>\n",
       "      <th>VEHICLE_COUNT_110</th>\n",
       "      <th>VEHICLE_COUNT_115</th>\n",
       "      <th>estTripsCount_20</th>\n",
       "      <th>estTripsCount_25</th>\n",
       "      <th>estTripsCount_30</th>\n",
       "      <th>estTripsCount_35</th>\n",
       "      <th>estTripsCount_40</th>\n",
       "      <th>realTripsCount_20</th>\n",
       "      <th>realTripsCount_25</th>\n",
       "      <th>realTripsCount_30</th>\n",
       "      <th>realTripsCount_35</th>\n",
       "      <th>realTripsCount_40</th>\n",
       "    </tr>\n",
       "    <tr>\n",
       "      <th>FROM_TIME</th>\n",
       "      <th></th>\n",
       "      <th></th>\n",
       "      <th></th>\n",
       "      <th></th>\n",
       "      <th></th>\n",
       "      <th></th>\n",
       "      <th></th>\n",
       "      <th></th>\n",
       "      <th></th>\n",
       "      <th></th>\n",
       "      <th></th>\n",
       "      <th></th>\n",
       "      <th></th>\n",
       "      <th></th>\n",
       "      <th></th>\n",
       "      <th></th>\n",
       "      <th></th>\n",
       "    </tr>\n",
       "  </thead>\n",
       "  <tbody>\n",
       "    <tr>\n",
       "      <th>2018-06-01 00:05:00</th>\n",
       "      <td>2018-06-01 00:10:00</td>\n",
       "      <td>16.22</td>\n",
       "      <td>18</td>\n",
       "      <td>186</td>\n",
       "      <td>195.3</td>\n",
       "      <td>204.6</td>\n",
       "      <td>213.9</td>\n",
       "      <td>0</td>\n",
       "      <td>0</td>\n",
       "      <td>0</td>\n",
       "      <td>0</td>\n",
       "      <td>0</td>\n",
       "      <td>99</td>\n",
       "      <td>139</td>\n",
       "      <td>172</td>\n",
       "      <td>202</td>\n",
       "      <td>242</td>\n",
       "    </tr>\n",
       "  </tbody>\n",
       "</table>\n",
       "</div>"
      ],
      "text/plain": [
       "                                END_TIME  AVG_RUNNING  TRIPS_COUNT  \\\n",
       "FROM_TIME                                                            \n",
       "2018-06-01 00:05:00  2018-06-01 00:10:00        16.22           18   \n",
       "\n",
       "                     VEHICLE_COUNT  VEHICLE_COUNT_105  VEHICLE_COUNT_110  \\\n",
       "FROM_TIME                                                                  \n",
       "2018-06-01 00:05:00            186              195.3              204.6   \n",
       "\n",
       "                     VEHICLE_COUNT_115  estTripsCount_20  estTripsCount_25  \\\n",
       "FROM_TIME                                                                    \n",
       "2018-06-01 00:05:00              213.9                 0                 0   \n",
       "\n",
       "                     estTripsCount_30  estTripsCount_35  estTripsCount_40  \\\n",
       "FROM_TIME                                                                   \n",
       "2018-06-01 00:05:00                 0                 0                 0   \n",
       "\n",
       "                     realTripsCount_20  realTripsCount_25  realTripsCount_30  \\\n",
       "FROM_TIME                                                                      \n",
       "2018-06-01 00:05:00                 99                139                172   \n",
       "\n",
       "                     realTripsCount_35  realTripsCount_40  \n",
       "FROM_TIME                                                  \n",
       "2018-06-01 00:05:00                202                242  "
      ]
     },
     "execution_count": 73,
     "metadata": {},
     "output_type": "execute_result"
    }
   ],
   "source": [
    "data_final.head(1)"
   ]
  },
  {
   "cell_type": "markdown",
   "metadata": {},
   "source": [
    "# 获取预估发车辆（预估和真实）大于空车数差量的数据\n",
    "以目标蓄车时间20min、差量5%为例的计算结果"
   ]
  },
  {
   "cell_type": "markdown",
   "metadata": {},
   "source": [
    "### 1.获取数据集"
   ]
  },
  {
   "cell_type": "code",
   "execution_count": 74,
   "metadata": {},
   "outputs": [],
   "source": [
    "data_final_est20_lg_105 = data_final[data_final[\"estTripsCount_20\"]>data_final[\"VEHICLE_COUNT_105\"]]\n",
    "data_final_real20_lg_105 = data_final[data_final[\"realTripsCount_20\"]>data_final[\"VEHICLE_COUNT_105\"]]\n",
    "data_final_both20_lg_105 = data_final[(data_final[\"estTripsCount_20\"]>data_final[\"VEHICLE_COUNT_105\"])&(data_final[\"realTripsCount_20\"]>data_final[\"VEHICLE_COUNT_105\"])]\n"
   ]
  },
  {
   "cell_type": "markdown",
   "metadata": {},
   "source": [
    "### 2.获取各数据集数据数量"
   ]
  },
  {
   "cell_type": "code",
   "execution_count": 75,
   "metadata": {},
   "outputs": [
    {
     "data": {
      "text/plain": [
       "158"
      ]
     },
     "execution_count": 75,
     "metadata": {},
     "output_type": "execute_result"
    }
   ],
   "source": [
    "est_20_105 = data_final_est20_lg_105.END_TIME.count()\n",
    "est_20_105"
   ]
  },
  {
   "cell_type": "code",
   "execution_count": 89,
   "metadata": {},
   "outputs": [
    {
     "name": "stderr",
     "output_type": "stream",
     "text": [
      "c:\\python36\\lib\\site-packages\\ipykernel_launcher.py:1: SettingWithCopyWarning: \n",
      "A value is trying to be set on a copy of a slice from a DataFrame.\n",
      "Try using .loc[row_indexer,col_indexer] = value instead\n",
      "\n",
      "See the caveats in the documentation: http://pandas.pydata.org/pandas-docs/stable/indexing.html#indexing-view-versus-copy\n",
      "  \"\"\"Entry point for launching an IPython kernel.\n"
     ]
    },
    {
     "data": {
      "text/html": [
       "<div>\n",
       "<style scoped>\n",
       "    .dataframe tbody tr th:only-of-type {\n",
       "        vertical-align: middle;\n",
       "    }\n",
       "\n",
       "    .dataframe tbody tr th {\n",
       "        vertical-align: top;\n",
       "    }\n",
       "\n",
       "    .dataframe thead th {\n",
       "        text-align: right;\n",
       "    }\n",
       "</style>\n",
       "<table border=\"1\" class=\"dataframe\">\n",
       "  <thead>\n",
       "    <tr style=\"text-align: right;\">\n",
       "      <th></th>\n",
       "      <th>END_TIME</th>\n",
       "      <th>AVG_RUNNING</th>\n",
       "      <th>TRIPS_COUNT</th>\n",
       "      <th>VEHICLE_COUNT</th>\n",
       "      <th>VEHICLE_COUNT_105</th>\n",
       "      <th>VEHICLE_COUNT_110</th>\n",
       "      <th>VEHICLE_COUNT_115</th>\n",
       "      <th>estTripsCount_20</th>\n",
       "      <th>estTripsCount_25</th>\n",
       "      <th>estTripsCount_30</th>\n",
       "      <th>estTripsCount_35</th>\n",
       "      <th>estTripsCount_40</th>\n",
       "      <th>realTripsCount_20</th>\n",
       "      <th>realTripsCount_25</th>\n",
       "      <th>realTripsCount_30</th>\n",
       "      <th>realTripsCount_35</th>\n",
       "      <th>realTripsCount_40</th>\n",
       "    </tr>\n",
       "    <tr>\n",
       "      <th>FROM_TIME</th>\n",
       "      <th></th>\n",
       "      <th></th>\n",
       "      <th></th>\n",
       "      <th></th>\n",
       "      <th></th>\n",
       "      <th></th>\n",
       "      <th></th>\n",
       "      <th></th>\n",
       "      <th></th>\n",
       "      <th></th>\n",
       "      <th></th>\n",
       "      <th></th>\n",
       "      <th></th>\n",
       "      <th></th>\n",
       "      <th></th>\n",
       "      <th></th>\n",
       "      <th></th>\n",
       "    </tr>\n",
       "  </thead>\n",
       "  <tbody>\n",
       "    <tr>\n",
       "      <th>2018-06-01 17:10:00</th>\n",
       "      <td>2018-06-01 17:15:00</td>\n",
       "      <td>26.63</td>\n",
       "      <td>22</td>\n",
       "      <td>77</td>\n",
       "      <td>80.85</td>\n",
       "      <td>84.7</td>\n",
       "      <td>88.55</td>\n",
       "      <td>81</td>\n",
       "      <td>98</td>\n",
       "      <td>109</td>\n",
       "      <td>121</td>\n",
       "      <td>135</td>\n",
       "      <td>91</td>\n",
       "      <td>117</td>\n",
       "      <td>131</td>\n",
       "      <td>141</td>\n",
       "      <td>152</td>\n",
       "    </tr>\n",
       "    <tr>\n",
       "      <th>2018-06-01 17:15:00</th>\n",
       "      <td>2018-06-01 17:20:00</td>\n",
       "      <td>26.45</td>\n",
       "      <td>24</td>\n",
       "      <td>76</td>\n",
       "      <td>79.80</td>\n",
       "      <td>83.6</td>\n",
       "      <td>87.40</td>\n",
       "      <td>85</td>\n",
       "      <td>105</td>\n",
       "      <td>122</td>\n",
       "      <td>133</td>\n",
       "      <td>145</td>\n",
       "      <td>93</td>\n",
       "      <td>107</td>\n",
       "      <td>117</td>\n",
       "      <td>128</td>\n",
       "      <td>144</td>\n",
       "    </tr>\n",
       "    <tr>\n",
       "      <th>2018-06-01 17:20:00</th>\n",
       "      <td>2018-06-01 17:25:00</td>\n",
       "      <td>21.74</td>\n",
       "      <td>21</td>\n",
       "      <td>71</td>\n",
       "      <td>74.55</td>\n",
       "      <td>78.1</td>\n",
       "      <td>81.65</td>\n",
       "      <td>91</td>\n",
       "      <td>106</td>\n",
       "      <td>126</td>\n",
       "      <td>143</td>\n",
       "      <td>154</td>\n",
       "      <td>86</td>\n",
       "      <td>96</td>\n",
       "      <td>107</td>\n",
       "      <td>123</td>\n",
       "      <td>135</td>\n",
       "    </tr>\n",
       "    <tr>\n",
       "      <th>2018-06-01 17:25:00</th>\n",
       "      <td>2018-06-01 17:30:00</td>\n",
       "      <td>18.76</td>\n",
       "      <td>21</td>\n",
       "      <td>67</td>\n",
       "      <td>70.35</td>\n",
       "      <td>73.7</td>\n",
       "      <td>77.05</td>\n",
       "      <td>88</td>\n",
       "      <td>112</td>\n",
       "      <td>127</td>\n",
       "      <td>147</td>\n",
       "      <td>164</td>\n",
       "      <td>75</td>\n",
       "      <td>86</td>\n",
       "      <td>102</td>\n",
       "      <td>114</td>\n",
       "      <td>125</td>\n",
       "    </tr>\n",
       "    <tr>\n",
       "      <th>2018-06-01 17:30:00</th>\n",
       "      <td>2018-06-01 17:35:00</td>\n",
       "      <td>17.30</td>\n",
       "      <td>25</td>\n",
       "      <td>71</td>\n",
       "      <td>74.55</td>\n",
       "      <td>78.1</td>\n",
       "      <td>81.65</td>\n",
       "      <td>91</td>\n",
       "      <td>113</td>\n",
       "      <td>137</td>\n",
       "      <td>152</td>\n",
       "      <td>172</td>\n",
       "      <td>61</td>\n",
       "      <td>77</td>\n",
       "      <td>89</td>\n",
       "      <td>100</td>\n",
       "      <td>111</td>\n",
       "    </tr>\n",
       "  </tbody>\n",
       "</table>\n",
       "</div>"
      ],
      "text/plain": [
       "                               END_TIME  AVG_RUNNING  TRIPS_COUNT  \\\n",
       "FROM_TIME                                                           \n",
       "2018-06-01 17:10:00 2018-06-01 17:15:00        26.63           22   \n",
       "2018-06-01 17:15:00 2018-06-01 17:20:00        26.45           24   \n",
       "2018-06-01 17:20:00 2018-06-01 17:25:00        21.74           21   \n",
       "2018-06-01 17:25:00 2018-06-01 17:30:00        18.76           21   \n",
       "2018-06-01 17:30:00 2018-06-01 17:35:00        17.30           25   \n",
       "\n",
       "                     VEHICLE_COUNT  VEHICLE_COUNT_105  VEHICLE_COUNT_110  \\\n",
       "FROM_TIME                                                                  \n",
       "2018-06-01 17:10:00             77              80.85               84.7   \n",
       "2018-06-01 17:15:00             76              79.80               83.6   \n",
       "2018-06-01 17:20:00             71              74.55               78.1   \n",
       "2018-06-01 17:25:00             67              70.35               73.7   \n",
       "2018-06-01 17:30:00             71              74.55               78.1   \n",
       "\n",
       "                     VEHICLE_COUNT_115  estTripsCount_20  estTripsCount_25  \\\n",
       "FROM_TIME                                                                    \n",
       "2018-06-01 17:10:00              88.55                81                98   \n",
       "2018-06-01 17:15:00              87.40                85               105   \n",
       "2018-06-01 17:20:00              81.65                91               106   \n",
       "2018-06-01 17:25:00              77.05                88               112   \n",
       "2018-06-01 17:30:00              81.65                91               113   \n",
       "\n",
       "                     estTripsCount_30  estTripsCount_35  estTripsCount_40  \\\n",
       "FROM_TIME                                                                   \n",
       "2018-06-01 17:10:00               109               121               135   \n",
       "2018-06-01 17:15:00               122               133               145   \n",
       "2018-06-01 17:20:00               126               143               154   \n",
       "2018-06-01 17:25:00               127               147               164   \n",
       "2018-06-01 17:30:00               137               152               172   \n",
       "\n",
       "                     realTripsCount_20  realTripsCount_25  realTripsCount_30  \\\n",
       "FROM_TIME                                                                      \n",
       "2018-06-01 17:10:00                 91                117                131   \n",
       "2018-06-01 17:15:00                 93                107                117   \n",
       "2018-06-01 17:20:00                 86                 96                107   \n",
       "2018-06-01 17:25:00                 75                 86                102   \n",
       "2018-06-01 17:30:00                 61                 77                 89   \n",
       "\n",
       "                     realTripsCount_35  realTripsCount_40  \n",
       "FROM_TIME                                                  \n",
       "2018-06-01 17:10:00                141                152  \n",
       "2018-06-01 17:15:00                128                144  \n",
       "2018-06-01 17:20:00                123                135  \n",
       "2018-06-01 17:25:00                114                125  \n",
       "2018-06-01 17:30:00                100                111  "
      ]
     },
     "execution_count": 89,
     "metadata": {},
     "output_type": "execute_result"
    }
   ],
   "source": [
    "data_final_est20_lg_105[\"END_TIME\"] = pd.to_datetime(data_final_est20_lg_105[\"END_TIME\"])\n",
    "data_final_est20_lg_105.head()\n"
   ]
  },
  {
   "cell_type": "code",
   "execution_count": 76,
   "metadata": {},
   "outputs": [
    {
     "data": {
      "text/plain": [
       "99"
      ]
     },
     "execution_count": 76,
     "metadata": {},
     "output_type": "execute_result"
    }
   ],
   "source": [
    "real_20_105 = data_final_real20_lg_105.END_TIME.count()\n",
    "real_20_105"
   ]
  },
  {
   "cell_type": "code",
   "execution_count": 77,
   "metadata": {},
   "outputs": [
    {
     "data": {
      "text/plain": [
       "68"
      ]
     },
     "execution_count": 77,
     "metadata": {},
     "output_type": "execute_result"
    }
   ],
   "source": [
    "both_20_105 = data_final_both20_lg_105.END_TIME.count()\n",
    "both_20_105"
   ]
  },
  {
   "cell_type": "markdown",
   "metadata": {},
   "source": [
    "### 3.计算上报准确度"
   ]
  },
  {
   "cell_type": "code",
   "execution_count": 78,
   "metadata": {},
   "outputs": [
    {
     "data": {
      "text/plain": [
       "0.43037974683544306"
      ]
     },
     "execution_count": 78,
     "metadata": {},
     "output_type": "execute_result"
    }
   ],
   "source": [
    "accuracy_20_105 = both_20_105/est_20_105\n",
    "accuracy_20_105"
   ]
  },
  {
   "cell_type": "markdown",
   "metadata": {},
   "source": [
    "### 4.计算误报率"
   ]
  },
  {
   "cell_type": "code",
   "execution_count": 79,
   "metadata": {},
   "outputs": [
    {
     "data": {
      "text/plain": [
       "0.1962025316455696"
      ]
     },
     "execution_count": 79,
     "metadata": {},
     "output_type": "execute_result"
    }
   ],
   "source": [
    "false_positive_20_105 = (real_20_105-both_20_105)/est_20_105\n",
    "false_positive_20_105"
   ]
  }
 ],
 "metadata": {
  "kernelspec": {
   "display_name": "Python 3",
   "language": "python",
   "name": "python3"
  },
  "language_info": {
   "codemirror_mode": {
    "name": "ipython",
    "version": 3
   },
   "file_extension": ".py",
   "mimetype": "text/x-python",
   "name": "python",
   "nbconvert_exporter": "python",
   "pygments_lexer": "ipython3",
   "version": "3.6.5"
  }
 },
 "nbformat": 4,
 "nbformat_minor": 2
}
