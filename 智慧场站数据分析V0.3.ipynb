{
 "cells": [
  {
   "cell_type": "markdown",
   "metadata": {},
   "source": [
    "## 本例是将V0.2版本的分析结果中，去除晚上02:00-07:55（开始时间）的数据"
   ]
  },
  {
   "cell_type": "code",
   "execution_count": 1,
   "metadata": {},
   "outputs": [],
   "source": [
    "import numpy as np\n",
    "import pandas as pd\n",
    "%matplotlib inline"
   ]
  },
  {
   "cell_type": "code",
   "execution_count": 2,
   "metadata": {},
   "outputs": [],
   "source": [
    "def getEstTripsCount(df,n=5):  \n",
    "    trips_count = df[\"TRIPS_COUNT\"]\n",
    "    estTripsCount = []\n",
    "    l = len(trips_count)\n",
    "    for i in range(l):\n",
    "        if i < n-1:\n",
    "            estTripsCount.append(0)\n",
    "        else:\n",
    "            estTripsCount.append(sum(trips_count[i+1-n:i+1]))\n",
    "    return estTripsCount\n",
    "\n",
    "def getRealTripsCount(df,n=5):\n",
    "    trips_count = df[\"TRIPS_COUNT\"]\n",
    "    realTripsCount = []\n",
    "    l = len(trips_count)\n",
    "    for i in range(l):\n",
    "        if l-i-1 < n:\n",
    "            realTripsCount.append(0)\n",
    "        else:\n",
    "            realTripsCount.append(sum(trips_count[i+1:i+1+n]))\n",
    "    return realTripsCount"
   ]
  },
  {
   "cell_type": "code",
   "execution_count": 3,
   "metadata": {},
   "outputs": [],
   "source": [
    "data = pd.read_csv(\"from_06_01_5_minute_stat.csv\")\n",
    "data[\"FROM_TIME\"] = pd.to_datetime(data[\"FROM_TIME\"])"
   ]
  },
  {
   "cell_type": "code",
   "execution_count": 26,
   "metadata": {},
   "outputs": [],
   "source": [
    "def getEstAndRealTime(dataFrame, carStorageTime, disPersion):\n",
    "    \"\"\"\n",
    "    返回预付发车量大于空车差量的开始时间列表和实际发车量大于空车差量的时间列表\n",
    "    \"\"\"\n",
    "    carStorageCount = int(carStorageTime/5)\n",
    "    # 计算空车差量\n",
    "    dataFrame[\"VEHICLE_COUNT_dispersion\"] = data.VEHICLE_COUNT*(1+disPersion)\n",
    "    # 计算预估发车量\n",
    "    estTripsCount = getEstTripsCount(dataFrame, n=carStorageCount)\n",
    "    # 计算实际发车量\n",
    "    realTripsCount = getRealTripsCount(dataFrame, n=carStorageCount)\n",
    "    \n",
    "    trips_count_dict = {\n",
    "        \"FROM_TIME\":dataFrame[\"FROM_TIME\"],\n",
    "        \"estTripsCount\":estTripsCount,\n",
    "        \"realTripsCount\":realTripsCount\n",
    "    }\n",
    "    # 合并数据集\n",
    "    df = dataFrame.merge(pd.DataFrame(trips_count_dict), on=\"FROM_TIME\")\n",
    "    csv_name = \"calc_{}_{}.csv\".format(carStorageTime,disPersion)\n",
    "   \n",
    "    \n",
    "    df[\"est_lg\"]=\"1\" if df[\"estTripsCount\"]>df[\"VEHICLE_COUNT_dispersion\"] else \"0\"\n",
    "    df[\"real_lg\"] =\"1\" if df[\"realTripsCount\"]>df[\"VEHICLE_COUNT_dispersion\"] else \"0\"                                                      \n",
    "    df.to_csv(csv_name)\n",
    "    df[\"HOUR\"] = df[\"FROM_TIME\"].dt.hour\n",
    "    \n",
    "    \n",
    "    # 筛选出需要的记录 1.预估大于空车差量的结果 2.真实大于预估差量的结果 3.预估和真实均大于差量的结果\n",
    "    df_est_lg = df[(df[\"estTripsCount\"]>df[\"VEHICLE_COUNT_dispersion\"]) & (df[\"HOUR\"].isin({0,1,8,9,10,11,12,13,14,15,16,17,18,19,20,21,22,23}))]\n",
    "    df_real_lg = df[(df[\"realTripsCount\"]>df[\"VEHICLE_COUNT_dispersion\"]) & (df[\"HOUR\"].isin({0,1,8,9,10,11,12,13,14,15,16,17,18,19,20,21,22,23}))]\n",
    "    # 获取筛选结果的时间列表，供返回\n",
    "    df_est_lg_fromtime = df_est_lg[\"FROM_TIME\"]\n",
    "    df_real_lg_fromtime = df_real_lg[\"FROM_TIME\"]\n",
    "    return df_est_lg_fromtime, df_real_lg_fromtime   \n"
   ]
  },
  {
   "cell_type": "code",
   "execution_count": 27,
   "metadata": {},
   "outputs": [],
   "source": [
    "def calcRate(df, carStorageTime, disPersion):\n",
    "    est_time, real_time = getEstAndRealTime(df, carStorageTime, disPersion)\n",
    "    est_time = set(est_time)\n",
    "    real_time = set(real_time)\n",
    "    \n",
    "    accuracy_rate = len(est_time & real_time)/len(est_time)\n",
    "    false_positive_rate = len(est_time-real_time)/len(est_time)\n",
    "    return accuracy_rate, false_positive_rate"
   ]
  },
  {
   "cell_type": "code",
   "execution_count": 28,
   "metadata": {},
   "outputs": [
    {
     "data": {
      "text/plain": [
       "RangeIndex(start=0, stop=5601, step=1)"
      ]
     },
     "execution_count": 28,
     "metadata": {},
     "output_type": "execute_result"
    }
   ],
   "source": [
    "data.index"
   ]
  },
  {
   "cell_type": "code",
   "execution_count": 29,
   "metadata": {},
   "outputs": [
    {
     "ename": "ValueError",
     "evalue": "The truth value of a Series is ambiguous. Use a.empty, a.bool(), a.item(), a.any() or a.all().",
     "output_type": "error",
     "traceback": [
      "\u001b[1;31m---------------------------------------------------------------------------\u001b[0m",
      "\u001b[1;31mValueError\u001b[0m                                Traceback (most recent call last)",
      "\u001b[1;32m<ipython-input-29-f833bc81c4b0>\u001b[0m in \u001b[0;36m<module>\u001b[1;34m()\u001b[0m\n\u001b[1;32m----> 1\u001b[1;33m \u001b[0maccuracy_rate\u001b[0m\u001b[1;33m,\u001b[0m \u001b[0mfalse_positive_rate\u001b[0m \u001b[1;33m=\u001b[0m \u001b[0mcalcRate\u001b[0m\u001b[1;33m(\u001b[0m\u001b[0mdata\u001b[0m\u001b[1;33m,\u001b[0m \u001b[1;36m20\u001b[0m\u001b[1;33m,\u001b[0m \u001b[1;36m0.05\u001b[0m\u001b[1;33m)\u001b[0m\u001b[1;33m\u001b[0m\u001b[0m\n\u001b[0m",
      "\u001b[1;32m<ipython-input-27-4451f2d04365>\u001b[0m in \u001b[0;36mcalcRate\u001b[1;34m(df, carStorageTime, disPersion)\u001b[0m\n\u001b[0;32m      1\u001b[0m \u001b[1;32mdef\u001b[0m \u001b[0mcalcRate\u001b[0m\u001b[1;33m(\u001b[0m\u001b[0mdf\u001b[0m\u001b[1;33m,\u001b[0m \u001b[0mcarStorageTime\u001b[0m\u001b[1;33m,\u001b[0m \u001b[0mdisPersion\u001b[0m\u001b[1;33m)\u001b[0m\u001b[1;33m:\u001b[0m\u001b[1;33m\u001b[0m\u001b[0m\n\u001b[1;32m----> 2\u001b[1;33m     \u001b[0mest_time\u001b[0m\u001b[1;33m,\u001b[0m \u001b[0mreal_time\u001b[0m \u001b[1;33m=\u001b[0m \u001b[0mgetEstAndRealTime\u001b[0m\u001b[1;33m(\u001b[0m\u001b[0mdf\u001b[0m\u001b[1;33m,\u001b[0m \u001b[0mcarStorageTime\u001b[0m\u001b[1;33m,\u001b[0m \u001b[0mdisPersion\u001b[0m\u001b[1;33m)\u001b[0m\u001b[1;33m\u001b[0m\u001b[0m\n\u001b[0m\u001b[0;32m      3\u001b[0m     \u001b[0mest_time\u001b[0m \u001b[1;33m=\u001b[0m \u001b[0mset\u001b[0m\u001b[1;33m(\u001b[0m\u001b[0mest_time\u001b[0m\u001b[1;33m)\u001b[0m\u001b[1;33m\u001b[0m\u001b[0m\n\u001b[0;32m      4\u001b[0m     \u001b[0mreal_time\u001b[0m \u001b[1;33m=\u001b[0m \u001b[0mset\u001b[0m\u001b[1;33m(\u001b[0m\u001b[0mreal_time\u001b[0m\u001b[1;33m)\u001b[0m\u001b[1;33m\u001b[0m\u001b[0m\n\u001b[0;32m      5\u001b[0m \u001b[1;33m\u001b[0m\u001b[0m\n",
      "\u001b[1;32m<ipython-input-26-002624ef91e1>\u001b[0m in \u001b[0;36mgetEstAndRealTime\u001b[1;34m(dataFrame, carStorageTime, disPersion)\u001b[0m\n\u001b[0;32m     21\u001b[0m \u001b[1;33m\u001b[0m\u001b[0m\n\u001b[0;32m     22\u001b[0m \u001b[1;33m\u001b[0m\u001b[0m\n\u001b[1;32m---> 23\u001b[1;33m     \u001b[0mdf\u001b[0m\u001b[1;33m[\u001b[0m\u001b[1;34m\"est_lg\"\u001b[0m\u001b[1;33m]\u001b[0m\u001b[1;33m=\u001b[0m\u001b[1;34m\"1\"\u001b[0m \u001b[1;32mif\u001b[0m \u001b[0mdf\u001b[0m\u001b[1;33m[\u001b[0m\u001b[1;34m\"estTripsCount\"\u001b[0m\u001b[1;33m]\u001b[0m\u001b[1;33m>\u001b[0m\u001b[0mdf\u001b[0m\u001b[1;33m[\u001b[0m\u001b[1;34m\"VEHICLE_COUNT_dispersion\"\u001b[0m\u001b[1;33m]\u001b[0m \u001b[1;32melse\u001b[0m \u001b[1;34m\"0\"\u001b[0m\u001b[1;33m\u001b[0m\u001b[0m\n\u001b[0m\u001b[0;32m     24\u001b[0m     \u001b[0mdf\u001b[0m\u001b[1;33m[\u001b[0m\u001b[1;34m\"real_lg\"\u001b[0m\u001b[1;33m]\u001b[0m \u001b[1;33m=\u001b[0m\u001b[1;34m\"1\"\u001b[0m \u001b[1;32mif\u001b[0m \u001b[0mdf\u001b[0m\u001b[1;33m[\u001b[0m\u001b[1;34m\"realTripsCount\"\u001b[0m\u001b[1;33m]\u001b[0m\u001b[1;33m>\u001b[0m\u001b[0mdf\u001b[0m\u001b[1;33m[\u001b[0m\u001b[1;34m\"VEHICLE_COUNT_dispersion\"\u001b[0m\u001b[1;33m]\u001b[0m \u001b[1;32melse\u001b[0m \u001b[1;34m\"0\"\u001b[0m\u001b[1;33m\u001b[0m\u001b[0m\n\u001b[0;32m     25\u001b[0m     \u001b[0mdf\u001b[0m\u001b[1;33m.\u001b[0m\u001b[0mto_csv\u001b[0m\u001b[1;33m(\u001b[0m\u001b[0mcsv_name\u001b[0m\u001b[1;33m)\u001b[0m\u001b[1;33m\u001b[0m\u001b[0m\n",
      "\u001b[1;32mc:\\python36\\lib\\site-packages\\pandas\\core\\generic.py\u001b[0m in \u001b[0;36m__nonzero__\u001b[1;34m(self)\u001b[0m\n\u001b[0;32m   1571\u001b[0m         raise ValueError(\"The truth value of a {0} is ambiguous. \"\n\u001b[0;32m   1572\u001b[0m                          \u001b[1;34m\"Use a.empty, a.bool(), a.item(), a.any() or a.all().\"\u001b[0m\u001b[1;33m\u001b[0m\u001b[0m\n\u001b[1;32m-> 1573\u001b[1;33m                          .format(self.__class__.__name__))\n\u001b[0m\u001b[0;32m   1574\u001b[0m \u001b[1;33m\u001b[0m\u001b[0m\n\u001b[0;32m   1575\u001b[0m     \u001b[0m__bool__\u001b[0m \u001b[1;33m=\u001b[0m \u001b[0m__nonzero__\u001b[0m\u001b[1;33m\u001b[0m\u001b[0m\n",
      "\u001b[1;31mValueError\u001b[0m: The truth value of a Series is ambiguous. Use a.empty, a.bool(), a.item(), a.any() or a.all()."
     ]
    }
   ],
   "source": [
    "accuracy_rate, false_positive_rate = calcRate(data, 20, 0.05)"
   ]
  },
  {
   "cell_type": "code",
   "execution_count": 8,
   "metadata": {},
   "outputs": [
    {
     "name": "stdout",
     "output_type": "stream",
     "text": [
      "0.4666666666666667 0.5333333333333333\n"
     ]
    }
   ],
   "source": [
    "print(accuracy_rate, false_positive_rate)"
   ]
  },
  {
   "cell_type": "code",
   "execution_count": 9,
   "metadata": {
    "scrolled": true
   },
   "outputs": [
    {
     "data": {
      "text/html": [
       "<div>\n",
       "<style scoped>\n",
       "    .dataframe tbody tr th:only-of-type {\n",
       "        vertical-align: middle;\n",
       "    }\n",
       "\n",
       "    .dataframe tbody tr th {\n",
       "        vertical-align: top;\n",
       "    }\n",
       "\n",
       "    .dataframe thead th {\n",
       "        text-align: right;\n",
       "    }\n",
       "</style>\n",
       "<table border=\"1\" class=\"dataframe\">\n",
       "  <thead>\n",
       "    <tr style=\"text-align: right;\">\n",
       "      <th></th>\n",
       "      <th>carStorageTimes</th>\n",
       "      <th>disPersion</th>\n",
       "      <th>accuracy_rate</th>\n",
       "      <th>false_positive_rate</th>\n",
       "    </tr>\n",
       "  </thead>\n",
       "  <tbody>\n",
       "    <tr>\n",
       "      <th>0</th>\n",
       "      <td>20</td>\n",
       "      <td>0.05</td>\n",
       "      <td>0.466667</td>\n",
       "      <td>0.533333</td>\n",
       "    </tr>\n",
       "    <tr>\n",
       "      <th>1</th>\n",
       "      <td>20</td>\n",
       "      <td>0.10</td>\n",
       "      <td>0.435897</td>\n",
       "      <td>0.564103</td>\n",
       "    </tr>\n",
       "    <tr>\n",
       "      <th>2</th>\n",
       "      <td>20</td>\n",
       "      <td>0.15</td>\n",
       "      <td>0.369231</td>\n",
       "      <td>0.630769</td>\n",
       "    </tr>\n",
       "    <tr>\n",
       "      <th>3</th>\n",
       "      <td>25</td>\n",
       "      <td>0.05</td>\n",
       "      <td>0.513944</td>\n",
       "      <td>0.486056</td>\n",
       "    </tr>\n",
       "    <tr>\n",
       "      <th>4</th>\n",
       "      <td>25</td>\n",
       "      <td>0.10</td>\n",
       "      <td>0.502463</td>\n",
       "      <td>0.497537</td>\n",
       "    </tr>\n",
       "    <tr>\n",
       "      <th>5</th>\n",
       "      <td>25</td>\n",
       "      <td>0.15</td>\n",
       "      <td>0.487342</td>\n",
       "      <td>0.512658</td>\n",
       "    </tr>\n",
       "    <tr>\n",
       "      <th>6</th>\n",
       "      <td>30</td>\n",
       "      <td>0.05</td>\n",
       "      <td>0.604374</td>\n",
       "      <td>0.395626</td>\n",
       "    </tr>\n",
       "    <tr>\n",
       "      <th>7</th>\n",
       "      <td>30</td>\n",
       "      <td>0.10</td>\n",
       "      <td>0.588235</td>\n",
       "      <td>0.411765</td>\n",
       "    </tr>\n",
       "    <tr>\n",
       "      <th>8</th>\n",
       "      <td>30</td>\n",
       "      <td>0.15</td>\n",
       "      <td>0.557746</td>\n",
       "      <td>0.442254</td>\n",
       "    </tr>\n",
       "    <tr>\n",
       "      <th>9</th>\n",
       "      <td>35</td>\n",
       "      <td>0.05</td>\n",
       "      <td>0.722721</td>\n",
       "      <td>0.277279</td>\n",
       "    </tr>\n",
       "    <tr>\n",
       "      <th>10</th>\n",
       "      <td>35</td>\n",
       "      <td>0.10</td>\n",
       "      <td>0.698413</td>\n",
       "      <td>0.301587</td>\n",
       "    </tr>\n",
       "    <tr>\n",
       "      <th>11</th>\n",
       "      <td>35</td>\n",
       "      <td>0.15</td>\n",
       "      <td>0.659504</td>\n",
       "      <td>0.340496</td>\n",
       "    </tr>\n",
       "    <tr>\n",
       "      <th>12</th>\n",
       "      <td>40</td>\n",
       "      <td>0.05</td>\n",
       "      <td>0.779808</td>\n",
       "      <td>0.220192</td>\n",
       "    </tr>\n",
       "    <tr>\n",
       "      <th>13</th>\n",
       "      <td>40</td>\n",
       "      <td>0.10</td>\n",
       "      <td>0.767762</td>\n",
       "      <td>0.232238</td>\n",
       "    </tr>\n",
       "    <tr>\n",
       "      <th>14</th>\n",
       "      <td>40</td>\n",
       "      <td>0.15</td>\n",
       "      <td>0.755530</td>\n",
       "      <td>0.244470</td>\n",
       "    </tr>\n",
       "  </tbody>\n",
       "</table>\n",
       "</div>"
      ],
      "text/plain": [
       "    carStorageTimes  disPersion  accuracy_rate  false_positive_rate\n",
       "0                20        0.05       0.466667             0.533333\n",
       "1                20        0.10       0.435897             0.564103\n",
       "2                20        0.15       0.369231             0.630769\n",
       "3                25        0.05       0.513944             0.486056\n",
       "4                25        0.10       0.502463             0.497537\n",
       "5                25        0.15       0.487342             0.512658\n",
       "6                30        0.05       0.604374             0.395626\n",
       "7                30        0.10       0.588235             0.411765\n",
       "8                30        0.15       0.557746             0.442254\n",
       "9                35        0.05       0.722721             0.277279\n",
       "10               35        0.10       0.698413             0.301587\n",
       "11               35        0.15       0.659504             0.340496\n",
       "12               40        0.05       0.779808             0.220192\n",
       "13               40        0.10       0.767762             0.232238\n",
       "14               40        0.15       0.755530             0.244470"
      ]
     },
     "execution_count": 9,
     "metadata": {},
     "output_type": "execute_result"
    }
   ],
   "source": [
    "carStorageTimes = [20,25,30,35,40]\n",
    "disPersion = [0.05,0.1,0.15]\n",
    "\n",
    "result = {\n",
    "    \"carStorageTimes\":[],\n",
    "    \"disPersion\":[],\n",
    "    \"accuracy_rate\":[],\n",
    "    \"false_positive_rate\":[]\n",
    "}\n",
    "\n",
    "for cst in carStorageTimes:\n",
    "    for dp in disPersion:\n",
    "        accuracy_rate, false_positive_rate = calcRate(data, cst, dp)\n",
    "        result[\"carStorageTimes\"].append(cst)\n",
    "        result[\"disPersion\"].append(dp)\n",
    "        result[\"accuracy_rate\"].append(accuracy_rate)\n",
    "        result[\"false_positive_rate\"].append(false_positive_rate)\n",
    "        \n",
    "df_result = pd.DataFrame(result)\n",
    "df_result"
   ]
  }
 ],
 "metadata": {
  "kernelspec": {
   "display_name": "Python 3",
   "language": "python",
   "name": "python3"
  },
  "language_info": {
   "codemirror_mode": {
    "name": "ipython",
    "version": 3
   },
   "file_extension": ".py",
   "mimetype": "text/x-python",
   "name": "python",
   "nbconvert_exporter": "python",
   "pygments_lexer": "ipython3",
   "version": "3.6.5"
  }
 },
 "nbformat": 4,
 "nbformat_minor": 2
}
