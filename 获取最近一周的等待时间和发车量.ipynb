{
 "cells": [
  {
   "cell_type": "code",
   "execution_count": 1,
   "metadata": {},
   "outputs": [],
   "source": [
    "import pandas as pd\n",
    "import pymysql\n",
    "import datetime"
   ]
  },
  {
   "cell_type": "code",
   "execution_count": 17,
   "metadata": {},
   "outputs": [],
   "source": [
    "conn = pymysql.connect(host='rr-wz9y03t9wtq075179o.mysql.rds.aliyuncs.com', user='medbuser', passwd='Ptmesys!!!1290098', db='mobility_exchange', port = 3306)\n",
    "sql = 'SELECT TIME(FROM_TIME) as TIME,AVG_RUNNING, TRIPS_COUNT FROM me_transport_hub_minute_stat WHERE HUB_CODE=\"SZ_AIR_BA\" AND DATE(FROM_TIME)=\"{}\" ORDER BY CRT_ON;'\n",
    "\n",
    "AVG_RUNNING = pd.DataFrame()\n",
    "TRIPS_COUNT = pd.DataFrame()\n",
    "\n",
    "for i in range(14):\n",
    "    date_i = datetime.date.today() - datetime.timedelta(days=(i+1))\n",
    "    sql_i = sql.format(date_i)\n",
    "    df_i = pd.read_sql_query(sql_i, con=conn)\n",
    "    avg_i = pd.DataFrame()\n",
    "    trips_i = pd.DataFrame()\n",
    "    if len(AVG_RUNNING.columns)==0:\n",
    "        AVG_RUNNING[[date_i,\"TIME\"]] = df_i[[\"AVG_RUNNING\",\"TIME\"]]\n",
    "        TRIPS_COUNT[[date_i,\"TIME\"]] = df_i[[\"TRIPS_COUNT\",\"TIME\"]]\n",
    "    else:\n",
    "        avg_i[[date_i, \"TIME\"]] = df_i[[\"AVG_RUNNING\", \"TIME\"]]\n",
    "        trips_i[[date_i, \"TIME\"]] = df_i[[\"TRIPS_COUNT\", \"TIME\"]]\n",
    "        AVG_RUNNING = pd.merge(AVG_RUNNING, avg_i[[date_i,\"TIME\"]], how=\"outer\", on=\"TIME\")\n",
    "        TRIPS_COUNT = pd.merge(TRIPS_COUNT, avg_i[[date_i,\"TIME\"]], how=\"outer\", on=\"TIME\")\n",
    "AVG_RUNNING.drop_duplicates(inplace=True)\n",
    "TRIPS_COUNT.drop_duplicates(inplace=True)\n",
    "AVG_RUNNING.reset_index(drop=True,inplace=True)\n",
    "TRIPS_COUNT.reset_index(drop=True,inplace=True)\n",
    "del AVG_RUNNING[\"TIME\"]\n",
    "del TRIPS_COUNT[\"TIME\"]\n",
    "AVG_RUNNING.to_csv(\"AVG_RUNNING_{}_created.csv\".format(datetime.date.today()))\n",
    "TRIPS_COUNT.to_csv(\"TRIPS_COUNT_{}_created.csv\".format(datetime.date.today()))"
   ]
  }
 ],
 "metadata": {
  "kernelspec": {
   "display_name": "Python 3",
   "language": "python",
   "name": "python3"
  },
  "language_info": {
   "codemirror_mode": {
    "name": "ipython",
    "version": 3
   },
   "file_extension": ".py",
   "mimetype": "text/x-python",
   "name": "python",
   "nbconvert_exporter": "python",
   "pygments_lexer": "ipython3",
   "version": "3.6.5"
  }
 },
 "nbformat": 4,
 "nbformat_minor": 2
}
