{
 "cells": [
  {
   "cell_type": "code",
   "execution_count": 1,
   "metadata": {},
   "outputs": [],
   "source": [
    "from pymongo import MongoClient\n",
    "import pandas as pd\n",
    "from pandas import DataFrame"
   ]
  },
  {
   "cell_type": "markdown",
   "metadata": {},
   "source": [
    "### 获取数据源"
   ]
  },
  {
   "cell_type": "code",
   "execution_count": 2,
   "metadata": {},
   "outputs": [
    {
     "data": {
      "text/html": [
       "<div>\n",
       "<style scoped>\n",
       "    .dataframe tbody tr th:only-of-type {\n",
       "        vertical-align: middle;\n",
       "    }\n",
       "\n",
       "    .dataframe tbody tr th {\n",
       "        vertical-align: top;\n",
       "    }\n",
       "\n",
       "    .dataframe thead th {\n",
       "        text-align: right;\n",
       "    }\n",
       "</style>\n",
       "<table border=\"1\" class=\"dataframe\">\n",
       "  <thead>\n",
       "    <tr style=\"text-align: right;\">\n",
       "      <th></th>\n",
       "      <th>_id</th>\n",
       "      <th>event</th>\n",
       "      <th>meterTripId</th>\n",
       "      <th>updateTime</th>\n",
       "    </tr>\n",
       "  </thead>\n",
       "  <tbody>\n",
       "    <tr>\n",
       "      <th>0</th>\n",
       "      <td>null</td>\n",
       "      <td>METER_ON</td>\n",
       "      <td>989841563652096</td>\n",
       "      <td>2000-10-13 00:33:03</td>\n",
       "    </tr>\n",
       "    <tr>\n",
       "      <th>1</th>\n",
       "      <td>null</td>\n",
       "      <td>METER_OFF</td>\n",
       "      <td>989860572520448</td>\n",
       "      <td>2018-06-30 20:42:18</td>\n",
       "    </tr>\n",
       "    <tr>\n",
       "      <th>2</th>\n",
       "      <td>null</td>\n",
       "      <td>METER_OFF</td>\n",
       "      <td>989860572520448</td>\n",
       "      <td>2018-06-30 20:42:18</td>\n",
       "    </tr>\n",
       "    <tr>\n",
       "      <th>3</th>\n",
       "      <td>null</td>\n",
       "      <td>METER_OFF</td>\n",
       "      <td>989860572520448</td>\n",
       "      <td>2018-06-30 20:42:18</td>\n",
       "    </tr>\n",
       "    <tr>\n",
       "      <th>4</th>\n",
       "      <td>null</td>\n",
       "      <td>METER_ON</td>\n",
       "      <td>989866461245440</td>\n",
       "      <td>2018-06-30 20:44:02</td>\n",
       "    </tr>\n",
       "  </tbody>\n",
       "</table>\n",
       "</div>"
      ],
      "text/plain": [
       "    _id      event      meterTripId          updateTime\n",
       "0  null   METER_ON  989841563652096 2000-10-13 00:33:03\n",
       "1  null  METER_OFF  989860572520448 2018-06-30 20:42:18\n",
       "2  null  METER_OFF  989860572520448 2018-06-30 20:42:18\n",
       "3  null  METER_OFF  989860572520448 2018-06-30 20:42:18\n",
       "4  null   METER_ON  989866461245440 2018-06-30 20:44:02"
      ]
     },
     "execution_count": 2,
     "metadata": {},
     "output_type": "execute_result"
    }
   ],
   "source": [
    "user = \"meuser\"\n",
    "pwd = \"NLb6ceTnOKAILorG8VVdY\"\n",
    "server_logs = \"119.23.8.231\"\n",
    "port = \"27128\"\n",
    "db_name = \"mobility_exchange\"\n",
    "\n",
    "uri = 'mongodb://' + user + ':' + pwd + '@' + server_logs + ':' + port\n",
    "\n",
    "client = MongoClient(uri)\n",
    "db = client[db_name]\n",
    "\n",
    "pipeline = [{\"$match\": {\"logDate\": 20180702}},\n",
    "            {\"$project\": {\"_id\":\"null\",\"updateTime\": 1, \"event\": 1, 'meterTripId': 1}},\n",
    "            {\"$sort\": {\"updateTime\": 1}}]\n",
    "\n",
    "data = db[\"meMogTransportHubEvent\"].aggregate(pipeline, allowDiskUse=True)\n",
    "\n",
    "l = []\n",
    "for c in data:\n",
    "    l.append(c)\n",
    "    \n",
    "df = DataFrame(l)\n",
    "df.head()"
   ]
  },
  {
   "cell_type": "markdown",
   "metadata": {},
   "source": [
    "### 对数据源进行分组处理，获取每一个计价器行程的关键时间和更新时间"
   ]
  },
  {
   "cell_type": "code",
   "execution_count": 3,
   "metadata": {},
   "outputs": [],
   "source": [
    "del df[\"_id\"]"
   ]
  },
  {
   "cell_type": "code",
   "execution_count": 4,
   "metadata": {},
   "outputs": [
    {
     "data": {
      "text/html": [
       "<div>\n",
       "<style scoped>\n",
       "    .dataframe tbody tr th:only-of-type {\n",
       "        vertical-align: middle;\n",
       "    }\n",
       "\n",
       "    .dataframe tbody tr th {\n",
       "        vertical-align: top;\n",
       "    }\n",
       "\n",
       "    .dataframe thead th {\n",
       "        text-align: right;\n",
       "    }\n",
       "</style>\n",
       "<table border=\"1\" class=\"dataframe\">\n",
       "  <thead>\n",
       "    <tr style=\"text-align: right;\">\n",
       "      <th></th>\n",
       "      <th>event</th>\n",
       "      <th>meterTripId</th>\n",
       "      <th>updateTime</th>\n",
       "    </tr>\n",
       "  </thead>\n",
       "  <tbody>\n",
       "    <tr>\n",
       "      <th>0</th>\n",
       "      <td>METER_ON</td>\n",
       "      <td>989841563652096</td>\n",
       "      <td>2000-10-13 00:33:03</td>\n",
       "    </tr>\n",
       "    <tr>\n",
       "      <th>1</th>\n",
       "      <td>METER_OFF</td>\n",
       "      <td>989860572520448</td>\n",
       "      <td>2018-06-30 20:42:18</td>\n",
       "    </tr>\n",
       "    <tr>\n",
       "      <th>2</th>\n",
       "      <td>METER_OFF</td>\n",
       "      <td>989860572520448</td>\n",
       "      <td>2018-06-30 20:42:18</td>\n",
       "    </tr>\n",
       "    <tr>\n",
       "      <th>3</th>\n",
       "      <td>METER_OFF</td>\n",
       "      <td>989860572520448</td>\n",
       "      <td>2018-06-30 20:42:18</td>\n",
       "    </tr>\n",
       "    <tr>\n",
       "      <th>4</th>\n",
       "      <td>METER_ON</td>\n",
       "      <td>989866461245440</td>\n",
       "      <td>2018-06-30 20:44:02</td>\n",
       "    </tr>\n",
       "  </tbody>\n",
       "</table>\n",
       "</div>"
      ],
      "text/plain": [
       "       event      meterTripId          updateTime\n",
       "0   METER_ON  989841563652096 2000-10-13 00:33:03\n",
       "1  METER_OFF  989860572520448 2018-06-30 20:42:18\n",
       "2  METER_OFF  989860572520448 2018-06-30 20:42:18\n",
       "3  METER_OFF  989860572520448 2018-06-30 20:42:18\n",
       "4   METER_ON  989866461245440 2018-06-30 20:44:02"
      ]
     },
     "execution_count": 4,
     "metadata": {},
     "output_type": "execute_result"
    }
   ],
   "source": [
    "df.head()"
   ]
  },
  {
   "cell_type": "code",
   "execution_count": 5,
   "metadata": {},
   "outputs": [],
   "source": [
    "r = {}\n",
    "for index, row in df.iterrows():\n",
    "    if row[\"meterTripId\"] == \"\":\n",
    "        continue\n",
    "    if row[\"meterTripId\"] in r:\n",
    "        r[row[\"meterTripId\"]]+=(\"::\"+row[\"event\"])\n",
    "    else:\n",
    "        r[row[\"meterTripId\"]]=\"\"\n",
    "        r[row[\"meterTripId\"]]+=(\"::\"+row[\"event\"])\n",
    "        \n",
    "df_r = DataFrame({\"ID\":list(r.keys()),\"events\":list(r.values())})   "
   ]
  },
  {
   "cell_type": "code",
   "execution_count": 6,
   "metadata": {},
   "outputs": [
    {
     "data": {
      "text/html": [
       "<div>\n",
       "<style scoped>\n",
       "    .dataframe tbody tr th:only-of-type {\n",
       "        vertical-align: middle;\n",
       "    }\n",
       "\n",
       "    .dataframe tbody tr th {\n",
       "        vertical-align: top;\n",
       "    }\n",
       "\n",
       "    .dataframe thead th {\n",
       "        text-align: right;\n",
       "    }\n",
       "</style>\n",
       "<table border=\"1\" class=\"dataframe\">\n",
       "  <thead>\n",
       "    <tr style=\"text-align: right;\">\n",
       "      <th></th>\n",
       "      <th>ID</th>\n",
       "      <th>events</th>\n",
       "    </tr>\n",
       "  </thead>\n",
       "  <tbody>\n",
       "    <tr>\n",
       "      <th>0</th>\n",
       "      <td>989841563652096</td>\n",
       "      <td>::METER_ON::METER_OFF</td>\n",
       "    </tr>\n",
       "    <tr>\n",
       "      <th>1</th>\n",
       "      <td>989860572520448</td>\n",
       "      <td>::METER_OFF::METER_OFF::METER_OFF::METER_ON</td>\n",
       "    </tr>\n",
       "    <tr>\n",
       "      <th>2</th>\n",
       "      <td>989866461245440</td>\n",
       "      <td>::METER_ON::METER_OFF::METER_OFF</td>\n",
       "    </tr>\n",
       "    <tr>\n",
       "      <th>3</th>\n",
       "      <td>989784565268480</td>\n",
       "      <td>::METER_OFF::METER_OFF::METER_OFF::METER_ON</td>\n",
       "    </tr>\n",
       "    <tr>\n",
       "      <th>4</th>\n",
       "      <td>989778905916416</td>\n",
       "      <td>::METER_OFF::METER_OFF::METER_OFF::METER_ON</td>\n",
       "    </tr>\n",
       "  </tbody>\n",
       "</table>\n",
       "</div>"
      ],
      "text/plain": [
       "                ID                                       events\n",
       "0  989841563652096                        ::METER_ON::METER_OFF\n",
       "1  989860572520448  ::METER_OFF::METER_OFF::METER_OFF::METER_ON\n",
       "2  989866461245440             ::METER_ON::METER_OFF::METER_OFF\n",
       "3  989784565268480  ::METER_OFF::METER_OFF::METER_OFF::METER_ON\n",
       "4  989778905916416  ::METER_OFF::METER_OFF::METER_OFF::METER_ON"
      ]
     },
     "execution_count": 6,
     "metadata": {},
     "output_type": "execute_result"
    }
   ],
   "source": [
    "df_r.head()"
   ]
  },
  {
   "cell_type": "code",
   "execution_count": 7,
   "metadata": {},
   "outputs": [
    {
     "data": {
      "text/html": [
       "<div>\n",
       "<style scoped>\n",
       "    .dataframe tbody tr th:only-of-type {\n",
       "        vertical-align: middle;\n",
       "    }\n",
       "\n",
       "    .dataframe tbody tr th {\n",
       "        vertical-align: top;\n",
       "    }\n",
       "\n",
       "    .dataframe thead th {\n",
       "        text-align: right;\n",
       "    }\n",
       "</style>\n",
       "<table border=\"1\" class=\"dataframe\">\n",
       "  <thead>\n",
       "    <tr style=\"text-align: right;\">\n",
       "      <th></th>\n",
       "      <th>ID</th>\n",
       "      <th>events</th>\n",
       "      <th>flag</th>\n",
       "    </tr>\n",
       "  </thead>\n",
       "  <tbody>\n",
       "    <tr>\n",
       "      <th>0</th>\n",
       "      <td>989841563652096</td>\n",
       "      <td>::METER_ON::METER_OFF</td>\n",
       "      <td>False</td>\n",
       "    </tr>\n",
       "    <tr>\n",
       "      <th>1</th>\n",
       "      <td>989860572520448</td>\n",
       "      <td>::METER_OFF::METER_OFF::METER_OFF::METER_ON</td>\n",
       "      <td>False</td>\n",
       "    </tr>\n",
       "    <tr>\n",
       "      <th>2</th>\n",
       "      <td>989866461245440</td>\n",
       "      <td>::METER_ON::METER_OFF::METER_OFF</td>\n",
       "      <td>False</td>\n",
       "    </tr>\n",
       "    <tr>\n",
       "      <th>3</th>\n",
       "      <td>989784565268480</td>\n",
       "      <td>::METER_OFF::METER_OFF::METER_OFF::METER_ON</td>\n",
       "      <td>False</td>\n",
       "    </tr>\n",
       "    <tr>\n",
       "      <th>4</th>\n",
       "      <td>989778905916416</td>\n",
       "      <td>::METER_OFF::METER_OFF::METER_OFF::METER_ON</td>\n",
       "      <td>False</td>\n",
       "    </tr>\n",
       "  </tbody>\n",
       "</table>\n",
       "</div>"
      ],
      "text/plain": [
       "                ID                                       events   flag\n",
       "0  989841563652096                        ::METER_ON::METER_OFF  False\n",
       "1  989860572520448  ::METER_OFF::METER_OFF::METER_OFF::METER_ON  False\n",
       "2  989866461245440             ::METER_ON::METER_OFF::METER_OFF  False\n",
       "3  989784565268480  ::METER_OFF::METER_OFF::METER_OFF::METER_ON  False\n",
       "4  989778905916416  ::METER_OFF::METER_OFF::METER_OFF::METER_ON  False"
      ]
     },
     "execution_count": 7,
     "metadata": {},
     "output_type": "execute_result"
    }
   ],
   "source": [
    "out_in_out = \"OUT::IN_HIRED::OUT\"\n",
    "flag = []\n",
    "for index,row in df_r.iterrows():\n",
    "    if out_in_out in row[\"events\"]:\n",
    "        flag.append(True)\n",
    "    else:\n",
    "        flag.append(False)\n",
    "df_r[\"flag\"] = flag\n",
    "df_r.head()"
   ]
  },
  {
   "cell_type": "code",
   "execution_count": 10,
   "metadata": {},
   "outputs": [],
   "source": [
    "df_end = df_r[flag]\n",
    "df_end.to_csv(\"20180702.csv\")"
   ]
  },
  {
   "cell_type": "code",
   "execution_count": null,
   "metadata": {},
   "outputs": [],
   "source": []
  }
 ],
 "metadata": {
  "kernelspec": {
   "display_name": "Python 3",
   "language": "python",
   "name": "python3"
  },
  "language_info": {
   "codemirror_mode": {
    "name": "ipython",
    "version": 3
   },
   "file_extension": ".py",
   "mimetype": "text/x-python",
   "name": "python",
   "nbconvert_exporter": "python",
   "pygments_lexer": "ipython3",
   "version": "3.6.5"
  }
 },
 "nbformat": 4,
 "nbformat_minor": 2
}
