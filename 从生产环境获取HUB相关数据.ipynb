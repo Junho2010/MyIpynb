{
 "cells": [
  {
   "cell_type": "code",
   "execution_count": 1,
   "metadata": {},
   "outputs": [],
   "source": [
    "import pandas as pd\n",
    "import pymysql\n",
    "import datetime"
   ]
  },
  {
   "cell_type": "code",
   "execution_count": 18,
   "metadata": {},
   "outputs": [],
   "source": [
    "# PROD\n",
    "conn = pymysql.connect(host='rr-wz9y03t9wtq075179o.mysql.rds.aliyuncs.com', user='medbuser', passwd='Ptmesys!!!1290098', db='mobility_exchange', port = 3306)\n"
   ]
  },
  {
   "cell_type": "code",
   "execution_count": 3,
   "metadata": {},
   "outputs": [],
   "source": [
    "sql_trip = \"SELECT * FROM me_transport_hub_trip WHERE DATE(TRIP_BOARD_TIME)>=20180714;\""
   ]
  },
  {
   "cell_type": "code",
   "execution_count": 4,
   "metadata": {},
   "outputs": [],
   "source": [
    "df = pd.read_sql_query(sql=sql_trip, con=conn)"
   ]
  },
  {
   "cell_type": "code",
   "execution_count": 5,
   "metadata": {},
   "outputs": [],
   "source": [
    "sql_board_gps2 = 'SELECT METER_TRIP_ID,ORG_LAT as GPS_LAT,ORG_LNG as GPS_LNG FROM `me_meter_trip` WHERE METER_TRIP_ID IN {}; '"
   ]
  },
  {
   "cell_type": "code",
   "execution_count": 6,
   "metadata": {},
   "outputs": [],
   "source": [
    "s = set(df[\"METER_TRIP_ID\"])"
   ]
  },
  {
   "cell_type": "code",
   "execution_count": 7,
   "metadata": {},
   "outputs": [],
   "source": [
    "inlist = str(s).replace(r\"{\",r\"(\").replace(r\"}\", r\")\").replace(\"\\\\\", \"\")"
   ]
  },
  {
   "cell_type": "code",
   "execution_count": 8,
   "metadata": {},
   "outputs": [],
   "source": [
    "df_gps = pd.read_sql_query(sql=sql_board_gps2.format(inlist), con=conn)"
   ]
  },
  {
   "cell_type": "code",
   "execution_count": 9,
   "metadata": {},
   "outputs": [],
   "source": [
    "df = df.merge(df_gps, on=\"METER_TRIP_ID\")"
   ]
  },
  {
   "cell_type": "code",
   "execution_count": 11,
   "metadata": {},
   "outputs": [],
   "source": [
    "df.to_csv(\"hotmap_0714.csv\", index=False, header=True)"
   ]
  },
  {
   "cell_type": "code",
   "execution_count": 14,
   "metadata": {},
   "outputs": [],
   "source": [
    "sql_trail = \"SELECT * FROM me_transport_hub_trail_stat WHERE STAT_DATE>=20180714;\""
   ]
  },
  {
   "cell_type": "code",
   "execution_count": 19,
   "metadata": {},
   "outputs": [
    {
     "data": {
      "text/html": [
       "<div>\n",
       "<style scoped>\n",
       "    .dataframe tbody tr th:only-of-type {\n",
       "        vertical-align: middle;\n",
       "    }\n",
       "\n",
       "    .dataframe tbody tr th {\n",
       "        vertical-align: top;\n",
       "    }\n",
       "\n",
       "    .dataframe thead th {\n",
       "        text-align: right;\n",
       "    }\n",
       "</style>\n",
       "<table border=\"1\" class=\"dataframe\">\n",
       "  <thead>\n",
       "    <tr style=\"text-align: right;\">\n",
       "      <th></th>\n",
       "      <th>ID</th>\n",
       "      <th>HUB_CODE</th>\n",
       "      <th>VEHICLE_NO</th>\n",
       "      <th>ENTRY_COUNT</th>\n",
       "      <th>DEPART_COUNT</th>\n",
       "      <th>ILLEGAL_COUNT</th>\n",
       "      <th>STAT_DATE</th>\n",
       "      <th>CRT_ON</th>\n",
       "      <th>UPD_ON</th>\n",
       "    </tr>\n",
       "  </thead>\n",
       "  <tbody>\n",
       "    <tr>\n",
       "      <th>0</th>\n",
       "      <td>993947343835136</td>\n",
       "      <td>SZ_RAIL_NOR</td>\n",
       "      <td>粤B0K4T2</td>\n",
       "      <td>2</td>\n",
       "      <td>1</td>\n",
       "      <td>0</td>\n",
       "      <td>20180714</td>\n",
       "      <td>2018-07-14 00:05:00</td>\n",
       "      <td>2018-07-15 00:00:02</td>\n",
       "    </tr>\n",
       "    <tr>\n",
       "      <th>1</th>\n",
       "      <td>993947343855616</td>\n",
       "      <td>SZ_RAIL_NOR</td>\n",
       "      <td>粤B0P7B3</td>\n",
       "      <td>1</td>\n",
       "      <td>1</td>\n",
       "      <td>0</td>\n",
       "      <td>20180714</td>\n",
       "      <td>2018-07-14 00:05:00</td>\n",
       "      <td>2018-07-15 00:00:02</td>\n",
       "    </tr>\n",
       "    <tr>\n",
       "      <th>2</th>\n",
       "      <td>993947343876609</td>\n",
       "      <td>SZ_RAIL_NOR</td>\n",
       "      <td>粤B0V3P3</td>\n",
       "      <td>3</td>\n",
       "      <td>0</td>\n",
       "      <td>0</td>\n",
       "      <td>20180714</td>\n",
       "      <td>2018-07-14 00:05:00</td>\n",
       "      <td>2018-07-15 00:00:02</td>\n",
       "    </tr>\n",
       "    <tr>\n",
       "      <th>3</th>\n",
       "      <td>993947343896577</td>\n",
       "      <td>SZ_RAIL_NOR</td>\n",
       "      <td>粤B0V4P2</td>\n",
       "      <td>6</td>\n",
       "      <td>3</td>\n",
       "      <td>2</td>\n",
       "      <td>20180714</td>\n",
       "      <td>2018-07-14 00:05:00</td>\n",
       "      <td>2018-07-15 00:00:02</td>\n",
       "    </tr>\n",
       "    <tr>\n",
       "      <th>4</th>\n",
       "      <td>993947343921664</td>\n",
       "      <td>SZ_RAIL_NOR</td>\n",
       "      <td>粤B0V9P3</td>\n",
       "      <td>2</td>\n",
       "      <td>1</td>\n",
       "      <td>0</td>\n",
       "      <td>20180714</td>\n",
       "      <td>2018-07-14 00:05:00</td>\n",
       "      <td>2018-07-15 00:00:02</td>\n",
       "    </tr>\n",
       "  </tbody>\n",
       "</table>\n",
       "</div>"
      ],
      "text/plain": [
       "                ID     HUB_CODE VEHICLE_NO  ENTRY_COUNT  DEPART_COUNT  \\\n",
       "0  993947343835136  SZ_RAIL_NOR    粤B0K4T2            2             1   \n",
       "1  993947343855616  SZ_RAIL_NOR    粤B0P7B3            1             1   \n",
       "2  993947343876609  SZ_RAIL_NOR    粤B0V3P3            3             0   \n",
       "3  993947343896577  SZ_RAIL_NOR    粤B0V4P2            6             3   \n",
       "4  993947343921664  SZ_RAIL_NOR    粤B0V9P3            2             1   \n",
       "\n",
       "   ILLEGAL_COUNT  STAT_DATE              CRT_ON              UPD_ON  \n",
       "0              0   20180714 2018-07-14 00:05:00 2018-07-15 00:00:02  \n",
       "1              0   20180714 2018-07-14 00:05:00 2018-07-15 00:00:02  \n",
       "2              0   20180714 2018-07-14 00:05:00 2018-07-15 00:00:02  \n",
       "3              2   20180714 2018-07-14 00:05:00 2018-07-15 00:00:02  \n",
       "4              0   20180714 2018-07-14 00:05:00 2018-07-15 00:00:02  "
      ]
     },
     "execution_count": 19,
     "metadata": {},
     "output_type": "execute_result"
    }
   ],
   "source": [
    "df_trail = pd.read_sql_query(sql=sql_trail, con=conn)\n",
    "df_trail.head()"
   ]
  },
  {
   "cell_type": "code",
   "execution_count": 20,
   "metadata": {},
   "outputs": [],
   "source": [
    "df_trail.to_csv(\"hub_trail_20180714.csv\")"
   ]
  },
  {
   "cell_type": "code",
   "execution_count": null,
   "metadata": {},
   "outputs": [],
   "source": []
  }
 ],
 "metadata": {
  "kernelspec": {
   "display_name": "Python 3",
   "language": "python",
   "name": "python3"
  },
  "language_info": {
   "codemirror_mode": {
    "name": "ipython",
    "version": 3
   },
   "file_extension": ".py",
   "mimetype": "text/x-python",
   "name": "python",
   "nbconvert_exporter": "python",
   "pygments_lexer": "ipython3",
   "version": "3.6.5"
  }
 },
 "nbformat": 4,
 "nbformat_minor": 2
}
