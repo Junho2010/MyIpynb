{
 "cells": [
  {
   "cell_type": "code",
   "execution_count": 1,
   "metadata": {},
   "outputs": [],
   "source": [
    "import numpy as np\n",
    "import pandas as pd\n",
    "import datetime"
   ]
  },
  {
   "cell_type": "code",
   "execution_count": 2,
   "metadata": {},
   "outputs": [],
   "source": [
    "# 获取时间序列\n",
    "def getTimeList(n):\n",
    "    d = pd.date_range(end=datetime.datetime.now(),periods=n,freq=\"2s\")\n",
    "    d = d.to_pydatetime()\n",
    "    d = np.vectorize(lambda s: s.strftime('%y%m%d%H%M%S'))(d)\n",
    "    return d"
   ]
  },
  {
   "cell_type": "code",
   "execution_count": 3,
   "metadata": {},
   "outputs": [],
   "source": [
    "# 获取距离列表\n",
    "def getDistanceList(n, begin=10000):\n",
    "    distanceList = []\n",
    "    for i in range(n):\n",
    "        distanceList.append(begin+i*2)\n",
    "    return distanceList"
   ]
  },
  {
   "cell_type": "code",
   "execution_count": 12,
   "metadata": {},
   "outputs": [],
   "source": [
    "def getSocketBaseData(gpsFile):\n",
    "    df_csv = pd.read_csv(gpsFile)\n",
    "    df_csv.driverStatus.replace([\"AVL\",\"HIRED\"],[1,513], inplace=True)\n",
    "    n = df_csv[\"lat\"].count()\n",
    "    if n==0:\n",
    "        return\n",
    "    updatetime = getTimeList(n)\n",
    "    distance = getDistanceList(n)\n",
    "    df = pd.DataFrame()\n",
    "    df[\"vehiclePlateNumber\"] = [\"粤BD98553\"] * n\n",
    "    df[\"vehiclePlateColorCode\"] = [1] * n\n",
    "    df[\"encrypt\"] = [0] * n\n",
    "    df[\"alarm\"] = [0] * n\n",
    "    df[\"state\"] = df_csv[\"driverStatus\"]\n",
    "    df[\"lat\"] = df_csv[\"lat\"]\n",
    "    df[\"lng\"] = df_csv[\"lng\"]\n",
    "    df[\"vec\"] = [3600] * n\n",
    "    df[\"direction\"] = [179] *n\n",
    "    df[\"datetime\"] = updatetime\n",
    "    df[\"distance\"] = distance\n",
    "    return df    "
   ]
  },
  {
   "cell_type": "code",
   "execution_count": 11,
   "metadata": {},
   "outputs": [],
   "source": [
    "df = getSocketBaseData(\"20180706_-603876009.csv\")\n",
    "col = [\"vehiclePlateNumber\", \"vehiclePlateColorCode\", \"encrypt\", \"alarm\", \"state\", \"lat\", \"lng\", \"vec\", \"direction\", \"datetime\", \"distance\"]\n",
    "df.to_csv(\"A00001.csv\",header=True, index=False, columns=col, encoding=\"utf8\")"
   ]
  },
  {
   "cell_type": "code",
   "execution_count": null,
   "metadata": {},
   "outputs": [],
   "source": []
  }
 ],
 "metadata": {
  "kernelspec": {
   "display_name": "Python 3",
   "language": "python",
   "name": "python3"
  },
  "language_info": {
   "codemirror_mode": {
    "name": "ipython",
    "version": 3
   },
   "file_extension": ".py",
   "mimetype": "text/x-python",
   "name": "python",
   "nbconvert_exporter": "python",
   "pygments_lexer": "ipython3",
   "version": "3.6.5"
  }
 },
 "nbformat": 4,
 "nbformat_minor": 2
}
